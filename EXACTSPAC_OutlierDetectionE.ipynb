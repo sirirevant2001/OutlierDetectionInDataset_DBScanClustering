{
  "metadata": {
    "kernelspec": {
      "language": "python",
      "display_name": "Python 3",
      "name": "python3"
    },
    "language_info": {
      "name": "python",
      "version": "3.7.12",
      "mimetype": "text/x-python",
      "codemirror_mode": {
        "name": "ipython",
        "version": 3
      },
      "pygments_lexer": "ipython3",
      "nbconvert_exporter": "python",
      "file_extension": ".py"
    },
    "colab": {
      "provenance": []
    }
  },
  "nbformat_minor": 0,
  "nbformat": 4,
  "cells": [
    {
      "cell_type": "markdown",
      "source": [
        "# EXACTSPACE"
      ],
      "metadata": {
        "id": "iRUWUUhqBCmo"
      }
    },
    {
      "cell_type": "code",
      "source": [
        "#Importing Required Packages\n",
        "import pandas as pd\n",
        "import numpy as np\n"
      ],
      "metadata": {
        "_uuid": "8f2839f25d086af736a60e9eeb907d3b93b6e0e5",
        "_cell_guid": "b1076dfc-b9ad-4769-8c92-a6c4dae69d19",
        "execution": {
          "iopub.status.busy": "2022-02-24T09:17:37.405563Z",
          "iopub.execute_input": "2022-02-24T09:17:37.405832Z",
          "iopub.status.idle": "2022-02-24T09:17:37.416198Z",
          "shell.execute_reply.started": "2022-02-24T09:17:37.405784Z",
          "shell.execute_reply": "2022-02-24T09:17:37.415421Z"
        },
        "trusted": true,
        "id": "AaqPcZG9BCmx"
      },
      "execution_count": null,
      "outputs": []
    },
    {
      "cell_type": "code",
      "source": [
        "#Importing Google Drive\n",
        "from google.colab import drive\n",
        "drive.mount(\"/content/gdrive\")"
      ],
      "metadata": {
        "colab": {
          "base_uri": "https://localhost:8080/"
        },
        "id": "GtQpUfx_E-WW",
        "outputId": "e83d6150-cba3-4e8b-b250-843e53d03b10"
      },
      "execution_count": null,
      "outputs": [
        {
          "output_type": "stream",
          "name": "stdout",
          "text": [
            "Drive already mounted at /content/gdrive; to attempt to forcibly remount, call drive.mount(\"/content/gdrive\", force_remount=True).\n"
          ]
        }
      ]
    },
    {
      "cell_type": "code",
      "source": [
        "#Reading Dataset from Google Drive\n",
        "df=pd.read_excel('/content/gdrive/MyDrive/Exactspace/data.xlsx')"
      ],
      "metadata": {
        "colab": {
          "base_uri": "https://localhost:8080/"
        },
        "id": "zRgxPy6zFE4t",
        "outputId": "23342f05-0d1a-4d04-9734-874c9ec49ebc"
      },
      "execution_count": null,
      "outputs": [
        {
          "output_type": "stream",
          "name": "stderr",
          "text": [
            "/usr/local/lib/python3.8/dist-packages/openpyxl/worksheet/_reader.py:312: UserWarning: Unknown extension is not supported and will be removed\n",
            "  warn(msg)\n"
          ]
        }
      ]
    },
    {
      "cell_type": "code",
      "source": [
        "#Printing The Dataframe\n",
        "df"
      ],
      "metadata": {
        "colab": {
          "base_uri": "https://localhost:8080/",
          "height": 424
        },
        "id": "pH24SK_57G21",
        "outputId": "1bf4bb06-7931-41be-b88b-98f7a758b29d"
      },
      "execution_count": null,
      "outputs": [
        {
          "output_type": "execute_result",
          "data": {
            "text/plain": [
              "                      time Cyclone_Inlet_Gas_Temp Cyclone_Material_Temp  \\\n",
              "0      2017-01-01 00:00:00                 867.63                910.42   \n",
              "1      2017-01-01 00:05:00                 879.23                918.14   \n",
              "2      2017-01-01 00:10:00                 875.67                924.18   \n",
              "3      2017-01-01 00:15:00                 875.28                923.15   \n",
              "4      2017-01-01 00:20:00                 891.66                934.26   \n",
              "...                    ...                    ...                   ...   \n",
              "377714 2020-08-07 11:55:00                 899.42                919.79   \n",
              "377715 2020-08-07 12:00:00                  879.9                895.02   \n",
              "377716 2020-08-07 12:05:00                  887.2                 895.7   \n",
              "377717 2020-08-07 12:10:00                  908.5                916.33   \n",
              "377718 2020-08-07 12:15:00                 880.86                905.31   \n",
              "\n",
              "       Cyclone_Outlet_Gas_draft Cyclone_cone_draft Cyclone_Gas_Outlet_Temp  \\\n",
              "0                       -189.54            -186.04                  852.13   \n",
              "1                       -184.33             -182.1                  862.53   \n",
              "2                       -181.26            -166.47                  866.06   \n",
              "3                       -179.15            -174.83                  865.85   \n",
              "4                       -178.32            -173.72                  876.06   \n",
              "...                         ...                ...                     ...   \n",
              "377714                  -224.07            -209.77                  901.01   \n",
              "377715                  -228.04            -211.28                  878.08   \n",
              "377716                  -230.11            -214.65                  885.32   \n",
              "377717                  -231.51            -218.09                   906.2   \n",
              "377718                  -235.02            -219.44                   882.1   \n",
              "\n",
              "       Cyclone_Inlet_Draft  \n",
              "0                   -145.9  \n",
              "1                  -149.76  \n",
              "2                  -145.01  \n",
              "3                  -142.82  \n",
              "4                  -143.39  \n",
              "...                    ...  \n",
              "377714             -175.15  \n",
              "377715             -176.94  \n",
              "377716             -179.18  \n",
              "377717             -181.96  \n",
              "377718             -184.02  \n",
              "\n",
              "[377719 rows x 7 columns]"
            ],
            "text/html": [
              "\n",
              "  <div id=\"df-af67097e-d03f-4829-8e4a-daaab59d12cf\">\n",
              "    <div class=\"colab-df-container\">\n",
              "      <div>\n",
              "<style scoped>\n",
              "    .dataframe tbody tr th:only-of-type {\n",
              "        vertical-align: middle;\n",
              "    }\n",
              "\n",
              "    .dataframe tbody tr th {\n",
              "        vertical-align: top;\n",
              "    }\n",
              "\n",
              "    .dataframe thead th {\n",
              "        text-align: right;\n",
              "    }\n",
              "</style>\n",
              "<table border=\"1\" class=\"dataframe\">\n",
              "  <thead>\n",
              "    <tr style=\"text-align: right;\">\n",
              "      <th></th>\n",
              "      <th>time</th>\n",
              "      <th>Cyclone_Inlet_Gas_Temp</th>\n",
              "      <th>Cyclone_Material_Temp</th>\n",
              "      <th>Cyclone_Outlet_Gas_draft</th>\n",
              "      <th>Cyclone_cone_draft</th>\n",
              "      <th>Cyclone_Gas_Outlet_Temp</th>\n",
              "      <th>Cyclone_Inlet_Draft</th>\n",
              "    </tr>\n",
              "  </thead>\n",
              "  <tbody>\n",
              "    <tr>\n",
              "      <th>0</th>\n",
              "      <td>2017-01-01 00:00:00</td>\n",
              "      <td>867.63</td>\n",
              "      <td>910.42</td>\n",
              "      <td>-189.54</td>\n",
              "      <td>-186.04</td>\n",
              "      <td>852.13</td>\n",
              "      <td>-145.9</td>\n",
              "    </tr>\n",
              "    <tr>\n",
              "      <th>1</th>\n",
              "      <td>2017-01-01 00:05:00</td>\n",
              "      <td>879.23</td>\n",
              "      <td>918.14</td>\n",
              "      <td>-184.33</td>\n",
              "      <td>-182.1</td>\n",
              "      <td>862.53</td>\n",
              "      <td>-149.76</td>\n",
              "    </tr>\n",
              "    <tr>\n",
              "      <th>2</th>\n",
              "      <td>2017-01-01 00:10:00</td>\n",
              "      <td>875.67</td>\n",
              "      <td>924.18</td>\n",
              "      <td>-181.26</td>\n",
              "      <td>-166.47</td>\n",
              "      <td>866.06</td>\n",
              "      <td>-145.01</td>\n",
              "    </tr>\n",
              "    <tr>\n",
              "      <th>3</th>\n",
              "      <td>2017-01-01 00:15:00</td>\n",
              "      <td>875.28</td>\n",
              "      <td>923.15</td>\n",
              "      <td>-179.15</td>\n",
              "      <td>-174.83</td>\n",
              "      <td>865.85</td>\n",
              "      <td>-142.82</td>\n",
              "    </tr>\n",
              "    <tr>\n",
              "      <th>4</th>\n",
              "      <td>2017-01-01 00:20:00</td>\n",
              "      <td>891.66</td>\n",
              "      <td>934.26</td>\n",
              "      <td>-178.32</td>\n",
              "      <td>-173.72</td>\n",
              "      <td>876.06</td>\n",
              "      <td>-143.39</td>\n",
              "    </tr>\n",
              "    <tr>\n",
              "      <th>...</th>\n",
              "      <td>...</td>\n",
              "      <td>...</td>\n",
              "      <td>...</td>\n",
              "      <td>...</td>\n",
              "      <td>...</td>\n",
              "      <td>...</td>\n",
              "      <td>...</td>\n",
              "    </tr>\n",
              "    <tr>\n",
              "      <th>377714</th>\n",
              "      <td>2020-08-07 11:55:00</td>\n",
              "      <td>899.42</td>\n",
              "      <td>919.79</td>\n",
              "      <td>-224.07</td>\n",
              "      <td>-209.77</td>\n",
              "      <td>901.01</td>\n",
              "      <td>-175.15</td>\n",
              "    </tr>\n",
              "    <tr>\n",
              "      <th>377715</th>\n",
              "      <td>2020-08-07 12:00:00</td>\n",
              "      <td>879.9</td>\n",
              "      <td>895.02</td>\n",
              "      <td>-228.04</td>\n",
              "      <td>-211.28</td>\n",
              "      <td>878.08</td>\n",
              "      <td>-176.94</td>\n",
              "    </tr>\n",
              "    <tr>\n",
              "      <th>377716</th>\n",
              "      <td>2020-08-07 12:05:00</td>\n",
              "      <td>887.2</td>\n",
              "      <td>895.7</td>\n",
              "      <td>-230.11</td>\n",
              "      <td>-214.65</td>\n",
              "      <td>885.32</td>\n",
              "      <td>-179.18</td>\n",
              "    </tr>\n",
              "    <tr>\n",
              "      <th>377717</th>\n",
              "      <td>2020-08-07 12:10:00</td>\n",
              "      <td>908.5</td>\n",
              "      <td>916.33</td>\n",
              "      <td>-231.51</td>\n",
              "      <td>-218.09</td>\n",
              "      <td>906.2</td>\n",
              "      <td>-181.96</td>\n",
              "    </tr>\n",
              "    <tr>\n",
              "      <th>377718</th>\n",
              "      <td>2020-08-07 12:15:00</td>\n",
              "      <td>880.86</td>\n",
              "      <td>905.31</td>\n",
              "      <td>-235.02</td>\n",
              "      <td>-219.44</td>\n",
              "      <td>882.1</td>\n",
              "      <td>-184.02</td>\n",
              "    </tr>\n",
              "  </tbody>\n",
              "</table>\n",
              "<p>377719 rows × 7 columns</p>\n",
              "</div>\n",
              "      <button class=\"colab-df-convert\" onclick=\"convertToInteractive('df-af67097e-d03f-4829-8e4a-daaab59d12cf')\"\n",
              "              title=\"Convert this dataframe to an interactive table.\"\n",
              "              style=\"display:none;\">\n",
              "        \n",
              "  <svg xmlns=\"http://www.w3.org/2000/svg\" height=\"24px\"viewBox=\"0 0 24 24\"\n",
              "       width=\"24px\">\n",
              "    <path d=\"M0 0h24v24H0V0z\" fill=\"none\"/>\n",
              "    <path d=\"M18.56 5.44l.94 2.06.94-2.06 2.06-.94-2.06-.94-.94-2.06-.94 2.06-2.06.94zm-11 1L8.5 8.5l.94-2.06 2.06-.94-2.06-.94L8.5 2.5l-.94 2.06-2.06.94zm10 10l.94 2.06.94-2.06 2.06-.94-2.06-.94-.94-2.06-.94 2.06-2.06.94z\"/><path d=\"M17.41 7.96l-1.37-1.37c-.4-.4-.92-.59-1.43-.59-.52 0-1.04.2-1.43.59L10.3 9.45l-7.72 7.72c-.78.78-.78 2.05 0 2.83L4 21.41c.39.39.9.59 1.41.59.51 0 1.02-.2 1.41-.59l7.78-7.78 2.81-2.81c.8-.78.8-2.07 0-2.86zM5.41 20L4 18.59l7.72-7.72 1.47 1.35L5.41 20z\"/>\n",
              "  </svg>\n",
              "      </button>\n",
              "      \n",
              "  <style>\n",
              "    .colab-df-container {\n",
              "      display:flex;\n",
              "      flex-wrap:wrap;\n",
              "      gap: 12px;\n",
              "    }\n",
              "\n",
              "    .colab-df-convert {\n",
              "      background-color: #E8F0FE;\n",
              "      border: none;\n",
              "      border-radius: 50%;\n",
              "      cursor: pointer;\n",
              "      display: none;\n",
              "      fill: #1967D2;\n",
              "      height: 32px;\n",
              "      padding: 0 0 0 0;\n",
              "      width: 32px;\n",
              "    }\n",
              "\n",
              "    .colab-df-convert:hover {\n",
              "      background-color: #E2EBFA;\n",
              "      box-shadow: 0px 1px 2px rgba(60, 64, 67, 0.3), 0px 1px 3px 1px rgba(60, 64, 67, 0.15);\n",
              "      fill: #174EA6;\n",
              "    }\n",
              "\n",
              "    [theme=dark] .colab-df-convert {\n",
              "      background-color: #3B4455;\n",
              "      fill: #D2E3FC;\n",
              "    }\n",
              "\n",
              "    [theme=dark] .colab-df-convert:hover {\n",
              "      background-color: #434B5C;\n",
              "      box-shadow: 0px 1px 3px 1px rgba(0, 0, 0, 0.15);\n",
              "      filter: drop-shadow(0px 1px 2px rgba(0, 0, 0, 0.3));\n",
              "      fill: #FFFFFF;\n",
              "    }\n",
              "  </style>\n",
              "\n",
              "      <script>\n",
              "        const buttonEl =\n",
              "          document.querySelector('#df-af67097e-d03f-4829-8e4a-daaab59d12cf button.colab-df-convert');\n",
              "        buttonEl.style.display =\n",
              "          google.colab.kernel.accessAllowed ? 'block' : 'none';\n",
              "\n",
              "        async function convertToInteractive(key) {\n",
              "          const element = document.querySelector('#df-af67097e-d03f-4829-8e4a-daaab59d12cf');\n",
              "          const dataTable =\n",
              "            await google.colab.kernel.invokeFunction('convertToInteractive',\n",
              "                                                     [key], {});\n",
              "          if (!dataTable) return;\n",
              "\n",
              "          const docLinkHtml = 'Like what you see? Visit the ' +\n",
              "            '<a target=\"_blank\" href=https://colab.research.google.com/notebooks/data_table.ipynb>data table notebook</a>'\n",
              "            + ' to learn more about interactive tables.';\n",
              "          element.innerHTML = '';\n",
              "          dataTable['output_type'] = 'display_data';\n",
              "          await google.colab.output.renderOutput(dataTable, element);\n",
              "          const docLink = document.createElement('div');\n",
              "          docLink.innerHTML = docLinkHtml;\n",
              "          element.appendChild(docLink);\n",
              "        }\n",
              "      </script>\n",
              "    </div>\n",
              "  </div>\n",
              "  "
            ]
          },
          "metadata": {},
          "execution_count": 98
        }
      ]
    },
    {
      "cell_type": "code",
      "source": [
        "df1=df"
      ],
      "metadata": {
        "id": "Rlm0yMqy5hzc"
      },
      "execution_count": null,
      "outputs": []
    },
    {
      "cell_type": "code",
      "source": [
        "df1.head()"
      ],
      "metadata": {
        "execution": {
          "iopub.status.busy": "2022-02-24T09:17:37.894623Z",
          "iopub.execute_input": "2022-02-24T09:17:37.895086Z",
          "iopub.status.idle": "2022-02-24T09:17:37.901580Z",
          "shell.execute_reply.started": "2022-02-24T09:17:37.895045Z",
          "shell.execute_reply": "2022-02-24T09:17:37.900751Z"
        },
        "trusted": true,
        "colab": {
          "base_uri": "https://localhost:8080/",
          "height": 206
        },
        "id": "tr-PxBcmBCm1",
        "outputId": "3da6e2f0-0a2c-4bd6-cfe9-dff66b3a8a7a"
      },
      "execution_count": null,
      "outputs": [
        {
          "output_type": "execute_result",
          "data": {
            "text/plain": [
              "                 time Cyclone_Inlet_Gas_Temp Cyclone_Material_Temp  \\\n",
              "0 2017-01-01 00:00:00                 867.63                910.42   \n",
              "1 2017-01-01 00:05:00                 879.23                918.14   \n",
              "2 2017-01-01 00:10:00                 875.67                924.18   \n",
              "3 2017-01-01 00:15:00                 875.28                923.15   \n",
              "4 2017-01-01 00:20:00                 891.66                934.26   \n",
              "\n",
              "  Cyclone_Outlet_Gas_draft Cyclone_cone_draft Cyclone_Gas_Outlet_Temp  \\\n",
              "0                  -189.54            -186.04                  852.13   \n",
              "1                  -184.33             -182.1                  862.53   \n",
              "2                  -181.26            -166.47                  866.06   \n",
              "3                  -179.15            -174.83                  865.85   \n",
              "4                  -178.32            -173.72                  876.06   \n",
              "\n",
              "  Cyclone_Inlet_Draft  \n",
              "0              -145.9  \n",
              "1             -149.76  \n",
              "2             -145.01  \n",
              "3             -142.82  \n",
              "4             -143.39  "
            ],
            "text/html": [
              "\n",
              "  <div id=\"df-7fef90d6-f48a-49b9-b71a-22ad1e530f43\">\n",
              "    <div class=\"colab-df-container\">\n",
              "      <div>\n",
              "<style scoped>\n",
              "    .dataframe tbody tr th:only-of-type {\n",
              "        vertical-align: middle;\n",
              "    }\n",
              "\n",
              "    .dataframe tbody tr th {\n",
              "        vertical-align: top;\n",
              "    }\n",
              "\n",
              "    .dataframe thead th {\n",
              "        text-align: right;\n",
              "    }\n",
              "</style>\n",
              "<table border=\"1\" class=\"dataframe\">\n",
              "  <thead>\n",
              "    <tr style=\"text-align: right;\">\n",
              "      <th></th>\n",
              "      <th>time</th>\n",
              "      <th>Cyclone_Inlet_Gas_Temp</th>\n",
              "      <th>Cyclone_Material_Temp</th>\n",
              "      <th>Cyclone_Outlet_Gas_draft</th>\n",
              "      <th>Cyclone_cone_draft</th>\n",
              "      <th>Cyclone_Gas_Outlet_Temp</th>\n",
              "      <th>Cyclone_Inlet_Draft</th>\n",
              "    </tr>\n",
              "  </thead>\n",
              "  <tbody>\n",
              "    <tr>\n",
              "      <th>0</th>\n",
              "      <td>2017-01-01 00:00:00</td>\n",
              "      <td>867.63</td>\n",
              "      <td>910.42</td>\n",
              "      <td>-189.54</td>\n",
              "      <td>-186.04</td>\n",
              "      <td>852.13</td>\n",
              "      <td>-145.9</td>\n",
              "    </tr>\n",
              "    <tr>\n",
              "      <th>1</th>\n",
              "      <td>2017-01-01 00:05:00</td>\n",
              "      <td>879.23</td>\n",
              "      <td>918.14</td>\n",
              "      <td>-184.33</td>\n",
              "      <td>-182.1</td>\n",
              "      <td>862.53</td>\n",
              "      <td>-149.76</td>\n",
              "    </tr>\n",
              "    <tr>\n",
              "      <th>2</th>\n",
              "      <td>2017-01-01 00:10:00</td>\n",
              "      <td>875.67</td>\n",
              "      <td>924.18</td>\n",
              "      <td>-181.26</td>\n",
              "      <td>-166.47</td>\n",
              "      <td>866.06</td>\n",
              "      <td>-145.01</td>\n",
              "    </tr>\n",
              "    <tr>\n",
              "      <th>3</th>\n",
              "      <td>2017-01-01 00:15:00</td>\n",
              "      <td>875.28</td>\n",
              "      <td>923.15</td>\n",
              "      <td>-179.15</td>\n",
              "      <td>-174.83</td>\n",
              "      <td>865.85</td>\n",
              "      <td>-142.82</td>\n",
              "    </tr>\n",
              "    <tr>\n",
              "      <th>4</th>\n",
              "      <td>2017-01-01 00:20:00</td>\n",
              "      <td>891.66</td>\n",
              "      <td>934.26</td>\n",
              "      <td>-178.32</td>\n",
              "      <td>-173.72</td>\n",
              "      <td>876.06</td>\n",
              "      <td>-143.39</td>\n",
              "    </tr>\n",
              "  </tbody>\n",
              "</table>\n",
              "</div>\n",
              "      <button class=\"colab-df-convert\" onclick=\"convertToInteractive('df-7fef90d6-f48a-49b9-b71a-22ad1e530f43')\"\n",
              "              title=\"Convert this dataframe to an interactive table.\"\n",
              "              style=\"display:none;\">\n",
              "        \n",
              "  <svg xmlns=\"http://www.w3.org/2000/svg\" height=\"24px\"viewBox=\"0 0 24 24\"\n",
              "       width=\"24px\">\n",
              "    <path d=\"M0 0h24v24H0V0z\" fill=\"none\"/>\n",
              "    <path d=\"M18.56 5.44l.94 2.06.94-2.06 2.06-.94-2.06-.94-.94-2.06-.94 2.06-2.06.94zm-11 1L8.5 8.5l.94-2.06 2.06-.94-2.06-.94L8.5 2.5l-.94 2.06-2.06.94zm10 10l.94 2.06.94-2.06 2.06-.94-2.06-.94-.94-2.06-.94 2.06-2.06.94z\"/><path d=\"M17.41 7.96l-1.37-1.37c-.4-.4-.92-.59-1.43-.59-.52 0-1.04.2-1.43.59L10.3 9.45l-7.72 7.72c-.78.78-.78 2.05 0 2.83L4 21.41c.39.39.9.59 1.41.59.51 0 1.02-.2 1.41-.59l7.78-7.78 2.81-2.81c.8-.78.8-2.07 0-2.86zM5.41 20L4 18.59l7.72-7.72 1.47 1.35L5.41 20z\"/>\n",
              "  </svg>\n",
              "      </button>\n",
              "      \n",
              "  <style>\n",
              "    .colab-df-container {\n",
              "      display:flex;\n",
              "      flex-wrap:wrap;\n",
              "      gap: 12px;\n",
              "    }\n",
              "\n",
              "    .colab-df-convert {\n",
              "      background-color: #E8F0FE;\n",
              "      border: none;\n",
              "      border-radius: 50%;\n",
              "      cursor: pointer;\n",
              "      display: none;\n",
              "      fill: #1967D2;\n",
              "      height: 32px;\n",
              "      padding: 0 0 0 0;\n",
              "      width: 32px;\n",
              "    }\n",
              "\n",
              "    .colab-df-convert:hover {\n",
              "      background-color: #E2EBFA;\n",
              "      box-shadow: 0px 1px 2px rgba(60, 64, 67, 0.3), 0px 1px 3px 1px rgba(60, 64, 67, 0.15);\n",
              "      fill: #174EA6;\n",
              "    }\n",
              "\n",
              "    [theme=dark] .colab-df-convert {\n",
              "      background-color: #3B4455;\n",
              "      fill: #D2E3FC;\n",
              "    }\n",
              "\n",
              "    [theme=dark] .colab-df-convert:hover {\n",
              "      background-color: #434B5C;\n",
              "      box-shadow: 0px 1px 3px 1px rgba(0, 0, 0, 0.15);\n",
              "      filter: drop-shadow(0px 1px 2px rgba(0, 0, 0, 0.3));\n",
              "      fill: #FFFFFF;\n",
              "    }\n",
              "  </style>\n",
              "\n",
              "      <script>\n",
              "        const buttonEl =\n",
              "          document.querySelector('#df-7fef90d6-f48a-49b9-b71a-22ad1e530f43 button.colab-df-convert');\n",
              "        buttonEl.style.display =\n",
              "          google.colab.kernel.accessAllowed ? 'block' : 'none';\n",
              "\n",
              "        async function convertToInteractive(key) {\n",
              "          const element = document.querySelector('#df-7fef90d6-f48a-49b9-b71a-22ad1e530f43');\n",
              "          const dataTable =\n",
              "            await google.colab.kernel.invokeFunction('convertToInteractive',\n",
              "                                                     [key], {});\n",
              "          if (!dataTable) return;\n",
              "\n",
              "          const docLinkHtml = 'Like what you see? Visit the ' +\n",
              "            '<a target=\"_blank\" href=https://colab.research.google.com/notebooks/data_table.ipynb>data table notebook</a>'\n",
              "            + ' to learn more about interactive tables.';\n",
              "          element.innerHTML = '';\n",
              "          dataTable['output_type'] = 'display_data';\n",
              "          await google.colab.output.renderOutput(dataTable, element);\n",
              "          const docLink = document.createElement('div');\n",
              "          docLink.innerHTML = docLinkHtml;\n",
              "          element.appendChild(docLink);\n",
              "        }\n",
              "      </script>\n",
              "    </div>\n",
              "  </div>\n",
              "  "
            ]
          },
          "metadata": {},
          "execution_count": 100
        }
      ]
    },
    {
      "cell_type": "code",
      "source": [
        "#Finding the Number of Columns and Rows\n",
        "df1.shape"
      ],
      "metadata": {
        "execution": {
          "iopub.status.busy": "2022-02-24T09:17:37.904113Z",
          "iopub.execute_input": "2022-02-24T09:17:37.904368Z",
          "iopub.status.idle": "2022-02-24T09:17:37.911270Z",
          "shell.execute_reply.started": "2022-02-24T09:17:37.904334Z",
          "shell.execute_reply": "2022-02-24T09:17:37.910463Z"
        },
        "trusted": true,
        "colab": {
          "base_uri": "https://localhost:8080/"
        },
        "id": "PmePB7PdBCm1",
        "outputId": "0020f107-6acb-4f8c-d03e-72ba825c2572"
      },
      "execution_count": null,
      "outputs": [
        {
          "output_type": "execute_result",
          "data": {
            "text/plain": [
              "(377719, 7)"
            ]
          },
          "metadata": {},
          "execution_count": 101
        }
      ]
    },
    {
      "cell_type": "code",
      "source": [
        "#Finding Null values in the Dataset\n",
        "df1.isnull().any()"
      ],
      "metadata": {
        "colab": {
          "base_uri": "https://localhost:8080/"
        },
        "id": "-GRLTcjZbcYI",
        "outputId": "c3c714f7-dc11-4ef5-c16a-51e86d6e2c2f"
      },
      "execution_count": null,
      "outputs": [
        {
          "output_type": "execute_result",
          "data": {
            "text/plain": [
              "time                        False\n",
              "Cyclone_Inlet_Gas_Temp      False\n",
              "Cyclone_Material_Temp       False\n",
              "Cyclone_Outlet_Gas_draft    False\n",
              "Cyclone_cone_draft          False\n",
              "Cyclone_Gas_Outlet_Temp     False\n",
              "Cyclone_Inlet_Draft         False\n",
              "dtype: bool"
            ]
          },
          "metadata": {},
          "execution_count": 102
        }
      ]
    },
    {
      "cell_type": "code",
      "source": [
        "#Finding more Info about Dataset\n",
        "df1.info()"
      ],
      "metadata": {
        "colab": {
          "base_uri": "https://localhost:8080/"
        },
        "id": "rq1pY_esbmTv",
        "outputId": "47c7189b-6bd3-41a4-d73e-1f96c47649e2"
      },
      "execution_count": null,
      "outputs": [
        {
          "output_type": "stream",
          "name": "stdout",
          "text": [
            "<class 'pandas.core.frame.DataFrame'>\n",
            "RangeIndex: 377719 entries, 0 to 377718\n",
            "Data columns (total 7 columns):\n",
            " #   Column                    Non-Null Count   Dtype         \n",
            "---  ------                    --------------   -----         \n",
            " 0   time                      377719 non-null  datetime64[ns]\n",
            " 1   Cyclone_Inlet_Gas_Temp    377719 non-null  object        \n",
            " 2   Cyclone_Material_Temp     377719 non-null  object        \n",
            " 3   Cyclone_Outlet_Gas_draft  377719 non-null  object        \n",
            " 4   Cyclone_cone_draft        377719 non-null  object        \n",
            " 5   Cyclone_Gas_Outlet_Temp   377719 non-null  object        \n",
            " 6   Cyclone_Inlet_Draft       377719 non-null  object        \n",
            "dtypes: datetime64[ns](1), object(6)\n",
            "memory usage: 20.2+ MB\n"
          ]
        }
      ]
    },
    {
      "cell_type": "code",
      "source": [
        "#Replacing text values with NaN values\n",
        "df1.replace(to_replace ='^[a-zA-Z].*', value = np.nan, regex = True, inplace= True)"
      ],
      "metadata": {
        "id": "14Rt43Zf1Yez"
      },
      "execution_count": null,
      "outputs": []
    },
    {
      "cell_type": "code",
      "source": [
        "df1.shape"
      ],
      "metadata": {
        "colab": {
          "base_uri": "https://localhost:8080/"
        },
        "id": "CcoeK42WIafT",
        "outputId": "cd8f2b1e-ff43-4540-b225-2bc87070d19d"
      },
      "execution_count": null,
      "outputs": [
        {
          "output_type": "execute_result",
          "data": {
            "text/plain": [
              "(377719, 7)"
            ]
          },
          "metadata": {},
          "execution_count": 105
        }
      ]
    },
    {
      "cell_type": "code",
      "source": [
        "df1.head()"
      ],
      "metadata": {
        "colab": {
          "base_uri": "https://localhost:8080/",
          "height": 206
        },
        "id": "naYNqADx5yEG",
        "outputId": "4bdc7085-7183-40b8-86ec-ce4722f3d8b9"
      },
      "execution_count": null,
      "outputs": [
        {
          "output_type": "execute_result",
          "data": {
            "text/plain": [
              "                 time Cyclone_Inlet_Gas_Temp Cyclone_Material_Temp  \\\n",
              "0 2017-01-01 00:00:00                 867.63                910.42   \n",
              "1 2017-01-01 00:05:00                 879.23                918.14   \n",
              "2 2017-01-01 00:10:00                 875.67                924.18   \n",
              "3 2017-01-01 00:15:00                 875.28                923.15   \n",
              "4 2017-01-01 00:20:00                 891.66                934.26   \n",
              "\n",
              "  Cyclone_Outlet_Gas_draft Cyclone_cone_draft Cyclone_Gas_Outlet_Temp  \\\n",
              "0                  -189.54            -186.04                  852.13   \n",
              "1                  -184.33             -182.1                  862.53   \n",
              "2                  -181.26            -166.47                  866.06   \n",
              "3                  -179.15            -174.83                  865.85   \n",
              "4                  -178.32            -173.72                  876.06   \n",
              "\n",
              "  Cyclone_Inlet_Draft  \n",
              "0              -145.9  \n",
              "1             -149.76  \n",
              "2             -145.01  \n",
              "3             -142.82  \n",
              "4             -143.39  "
            ],
            "text/html": [
              "\n",
              "  <div id=\"df-e7540668-a9f0-42b8-9398-73d2d15a8efb\">\n",
              "    <div class=\"colab-df-container\">\n",
              "      <div>\n",
              "<style scoped>\n",
              "    .dataframe tbody tr th:only-of-type {\n",
              "        vertical-align: middle;\n",
              "    }\n",
              "\n",
              "    .dataframe tbody tr th {\n",
              "        vertical-align: top;\n",
              "    }\n",
              "\n",
              "    .dataframe thead th {\n",
              "        text-align: right;\n",
              "    }\n",
              "</style>\n",
              "<table border=\"1\" class=\"dataframe\">\n",
              "  <thead>\n",
              "    <tr style=\"text-align: right;\">\n",
              "      <th></th>\n",
              "      <th>time</th>\n",
              "      <th>Cyclone_Inlet_Gas_Temp</th>\n",
              "      <th>Cyclone_Material_Temp</th>\n",
              "      <th>Cyclone_Outlet_Gas_draft</th>\n",
              "      <th>Cyclone_cone_draft</th>\n",
              "      <th>Cyclone_Gas_Outlet_Temp</th>\n",
              "      <th>Cyclone_Inlet_Draft</th>\n",
              "    </tr>\n",
              "  </thead>\n",
              "  <tbody>\n",
              "    <tr>\n",
              "      <th>0</th>\n",
              "      <td>2017-01-01 00:00:00</td>\n",
              "      <td>867.63</td>\n",
              "      <td>910.42</td>\n",
              "      <td>-189.54</td>\n",
              "      <td>-186.04</td>\n",
              "      <td>852.13</td>\n",
              "      <td>-145.9</td>\n",
              "    </tr>\n",
              "    <tr>\n",
              "      <th>1</th>\n",
              "      <td>2017-01-01 00:05:00</td>\n",
              "      <td>879.23</td>\n",
              "      <td>918.14</td>\n",
              "      <td>-184.33</td>\n",
              "      <td>-182.1</td>\n",
              "      <td>862.53</td>\n",
              "      <td>-149.76</td>\n",
              "    </tr>\n",
              "    <tr>\n",
              "      <th>2</th>\n",
              "      <td>2017-01-01 00:10:00</td>\n",
              "      <td>875.67</td>\n",
              "      <td>924.18</td>\n",
              "      <td>-181.26</td>\n",
              "      <td>-166.47</td>\n",
              "      <td>866.06</td>\n",
              "      <td>-145.01</td>\n",
              "    </tr>\n",
              "    <tr>\n",
              "      <th>3</th>\n",
              "      <td>2017-01-01 00:15:00</td>\n",
              "      <td>875.28</td>\n",
              "      <td>923.15</td>\n",
              "      <td>-179.15</td>\n",
              "      <td>-174.83</td>\n",
              "      <td>865.85</td>\n",
              "      <td>-142.82</td>\n",
              "    </tr>\n",
              "    <tr>\n",
              "      <th>4</th>\n",
              "      <td>2017-01-01 00:20:00</td>\n",
              "      <td>891.66</td>\n",
              "      <td>934.26</td>\n",
              "      <td>-178.32</td>\n",
              "      <td>-173.72</td>\n",
              "      <td>876.06</td>\n",
              "      <td>-143.39</td>\n",
              "    </tr>\n",
              "  </tbody>\n",
              "</table>\n",
              "</div>\n",
              "      <button class=\"colab-df-convert\" onclick=\"convertToInteractive('df-e7540668-a9f0-42b8-9398-73d2d15a8efb')\"\n",
              "              title=\"Convert this dataframe to an interactive table.\"\n",
              "              style=\"display:none;\">\n",
              "        \n",
              "  <svg xmlns=\"http://www.w3.org/2000/svg\" height=\"24px\"viewBox=\"0 0 24 24\"\n",
              "       width=\"24px\">\n",
              "    <path d=\"M0 0h24v24H0V0z\" fill=\"none\"/>\n",
              "    <path d=\"M18.56 5.44l.94 2.06.94-2.06 2.06-.94-2.06-.94-.94-2.06-.94 2.06-2.06.94zm-11 1L8.5 8.5l.94-2.06 2.06-.94-2.06-.94L8.5 2.5l-.94 2.06-2.06.94zm10 10l.94 2.06.94-2.06 2.06-.94-2.06-.94-.94-2.06-.94 2.06-2.06.94z\"/><path d=\"M17.41 7.96l-1.37-1.37c-.4-.4-.92-.59-1.43-.59-.52 0-1.04.2-1.43.59L10.3 9.45l-7.72 7.72c-.78.78-.78 2.05 0 2.83L4 21.41c.39.39.9.59 1.41.59.51 0 1.02-.2 1.41-.59l7.78-7.78 2.81-2.81c.8-.78.8-2.07 0-2.86zM5.41 20L4 18.59l7.72-7.72 1.47 1.35L5.41 20z\"/>\n",
              "  </svg>\n",
              "      </button>\n",
              "      \n",
              "  <style>\n",
              "    .colab-df-container {\n",
              "      display:flex;\n",
              "      flex-wrap:wrap;\n",
              "      gap: 12px;\n",
              "    }\n",
              "\n",
              "    .colab-df-convert {\n",
              "      background-color: #E8F0FE;\n",
              "      border: none;\n",
              "      border-radius: 50%;\n",
              "      cursor: pointer;\n",
              "      display: none;\n",
              "      fill: #1967D2;\n",
              "      height: 32px;\n",
              "      padding: 0 0 0 0;\n",
              "      width: 32px;\n",
              "    }\n",
              "\n",
              "    .colab-df-convert:hover {\n",
              "      background-color: #E2EBFA;\n",
              "      box-shadow: 0px 1px 2px rgba(60, 64, 67, 0.3), 0px 1px 3px 1px rgba(60, 64, 67, 0.15);\n",
              "      fill: #174EA6;\n",
              "    }\n",
              "\n",
              "    [theme=dark] .colab-df-convert {\n",
              "      background-color: #3B4455;\n",
              "      fill: #D2E3FC;\n",
              "    }\n",
              "\n",
              "    [theme=dark] .colab-df-convert:hover {\n",
              "      background-color: #434B5C;\n",
              "      box-shadow: 0px 1px 3px 1px rgba(0, 0, 0, 0.15);\n",
              "      filter: drop-shadow(0px 1px 2px rgba(0, 0, 0, 0.3));\n",
              "      fill: #FFFFFF;\n",
              "    }\n",
              "  </style>\n",
              "\n",
              "      <script>\n",
              "        const buttonEl =\n",
              "          document.querySelector('#df-e7540668-a9f0-42b8-9398-73d2d15a8efb button.colab-df-convert');\n",
              "        buttonEl.style.display =\n",
              "          google.colab.kernel.accessAllowed ? 'block' : 'none';\n",
              "\n",
              "        async function convertToInteractive(key) {\n",
              "          const element = document.querySelector('#df-e7540668-a9f0-42b8-9398-73d2d15a8efb');\n",
              "          const dataTable =\n",
              "            await google.colab.kernel.invokeFunction('convertToInteractive',\n",
              "                                                     [key], {});\n",
              "          if (!dataTable) return;\n",
              "\n",
              "          const docLinkHtml = 'Like what you see? Visit the ' +\n",
              "            '<a target=\"_blank\" href=https://colab.research.google.com/notebooks/data_table.ipynb>data table notebook</a>'\n",
              "            + ' to learn more about interactive tables.';\n",
              "          element.innerHTML = '';\n",
              "          dataTable['output_type'] = 'display_data';\n",
              "          await google.colab.output.renderOutput(dataTable, element);\n",
              "          const docLink = document.createElement('div');\n",
              "          docLink.innerHTML = docLinkHtml;\n",
              "          element.appendChild(docLink);\n",
              "        }\n",
              "      </script>\n",
              "    </div>\n",
              "  </div>\n",
              "  "
            ]
          },
          "metadata": {},
          "execution_count": 106
        }
      ]
    },
    {
      "cell_type": "code",
      "source": [
        "#Converting Object type to Float type\n",
        "df1['Cyclone_Inlet_Gas_Temp'] = df1['Cyclone_Inlet_Gas_Temp'].astype(float)\n",
        "df1['Cyclone_Material_Temp'] = df1['Cyclone_Material_Temp'].astype(float)\n",
        "df1['Cyclone_Outlet_Gas_draft'] = df1['Cyclone_Outlet_Gas_draft'].astype(float)\n",
        "df1['Cyclone_cone_draft'] = df1['Cyclone_cone_draft'].astype(float)\n",
        "df1['Cyclone_Gas_Outlet_Temp'] = df1['Cyclone_Gas_Outlet_Temp'].astype(float)\n",
        "df1['Cyclone_Inlet_Draft'] = df1['Cyclone_Inlet_Draft'].astype(float)\n"
      ],
      "metadata": {
        "id": "EiUA7lg78Glt"
      },
      "execution_count": null,
      "outputs": []
    },
    {
      "cell_type": "code",
      "source": [
        "df1.info()"
      ],
      "metadata": {
        "colab": {
          "base_uri": "https://localhost:8080/"
        },
        "id": "fouoW3-k8ka-",
        "outputId": "a83fcb3e-7492-4f2b-aa05-55e4224f7744"
      },
      "execution_count": null,
      "outputs": [
        {
          "output_type": "stream",
          "name": "stdout",
          "text": [
            "<class 'pandas.core.frame.DataFrame'>\n",
            "RangeIndex: 377719 entries, 0 to 377718\n",
            "Data columns (total 7 columns):\n",
            " #   Column                    Non-Null Count   Dtype         \n",
            "---  ------                    --------------   -----         \n",
            " 0   time                      377719 non-null  datetime64[ns]\n",
            " 1   Cyclone_Inlet_Gas_Temp    376399 non-null  float64       \n",
            " 2   Cyclone_Material_Temp     376128 non-null  float64       \n",
            " 3   Cyclone_Outlet_Gas_draft  376398 non-null  float64       \n",
            " 4   Cyclone_cone_draft        376399 non-null  float64       \n",
            " 5   Cyclone_Gas_Outlet_Temp   376398 non-null  float64       \n",
            " 6   Cyclone_Inlet_Draft       376397 non-null  float64       \n",
            "dtypes: datetime64[ns](1), float64(6)\n",
            "memory usage: 20.2 MB\n"
          ]
        }
      ]
    },
    {
      "cell_type": "code",
      "source": [
        "#Finding total number of null values\n",
        "df1.isna().sum() "
      ],
      "metadata": {
        "colab": {
          "base_uri": "https://localhost:8080/"
        },
        "id": "dosB-7AA5194",
        "outputId": "dabbceb9-02b0-4605-a8fc-15978ff3ec3c"
      },
      "execution_count": null,
      "outputs": [
        {
          "output_type": "execute_result",
          "data": {
            "text/plain": [
              "time                           0\n",
              "Cyclone_Inlet_Gas_Temp      1320\n",
              "Cyclone_Material_Temp       1591\n",
              "Cyclone_Outlet_Gas_draft    1321\n",
              "Cyclone_cone_draft          1320\n",
              "Cyclone_Gas_Outlet_Temp     1321\n",
              "Cyclone_Inlet_Draft         1322\n",
              "dtype: int64"
            ]
          },
          "metadata": {},
          "execution_count": 109
        }
      ]
    },
    {
      "cell_type": "code",
      "source": [
        "df1.describe()"
      ],
      "metadata": {
        "colab": {
          "base_uri": "https://localhost:8080/",
          "height": 300
        },
        "id": "VvzwOQ5683sb",
        "outputId": "c786429c-d4c4-44b2-8c9a-4355333522f8"
      },
      "execution_count": null,
      "outputs": [
        {
          "output_type": "execute_result",
          "data": {
            "text/plain": [
              "       Cyclone_Inlet_Gas_Temp  Cyclone_Material_Temp  \\\n",
              "count           376399.000000          376128.000000   \n",
              "mean               727.348549             750.830483   \n",
              "std                328.664814             350.921068   \n",
              "min                  0.000000            -185.000000   \n",
              "25%                856.270000             867.667500   \n",
              "50%                882.380000             913.360000   \n",
              "75%                901.110000             943.660000   \n",
              "max               1157.630000            1375.000000   \n",
              "\n",
              "       Cyclone_Outlet_Gas_draft  Cyclone_cone_draft  Cyclone_Gas_Outlet_Temp  \\\n",
              "count             376398.000000       376399.000000            376398.000000   \n",
              "mean                -177.820685         -164.572619               715.759972   \n",
              "std                   99.147236           90.103023               325.346446   \n",
              "min                 -456.660000         -459.310000                13.790000   \n",
              "25%                 -247.190000         -226.770000               801.960000   \n",
              "50%                 -215.260000         -198.560000               871.525000   \n",
              "75%                 -170.130000         -143.640000               899.300000   \n",
              "max                   40.270000          488.860000              1375.000000   \n",
              "\n",
              "       Cyclone_Inlet_Draft  \n",
              "count        376397.000000  \n",
              "mean           -141.302857  \n",
              "std              77.615576  \n",
              "min            -396.370000  \n",
              "25%            -193.510000  \n",
              "50%            -169.460000  \n",
              "75%            -136.290000  \n",
              "max              41.640000  "
            ],
            "text/html": [
              "\n",
              "  <div id=\"df-6ffb578a-cdf8-4985-882c-aaca078d5866\">\n",
              "    <div class=\"colab-df-container\">\n",
              "      <div>\n",
              "<style scoped>\n",
              "    .dataframe tbody tr th:only-of-type {\n",
              "        vertical-align: middle;\n",
              "    }\n",
              "\n",
              "    .dataframe tbody tr th {\n",
              "        vertical-align: top;\n",
              "    }\n",
              "\n",
              "    .dataframe thead th {\n",
              "        text-align: right;\n",
              "    }\n",
              "</style>\n",
              "<table border=\"1\" class=\"dataframe\">\n",
              "  <thead>\n",
              "    <tr style=\"text-align: right;\">\n",
              "      <th></th>\n",
              "      <th>Cyclone_Inlet_Gas_Temp</th>\n",
              "      <th>Cyclone_Material_Temp</th>\n",
              "      <th>Cyclone_Outlet_Gas_draft</th>\n",
              "      <th>Cyclone_cone_draft</th>\n",
              "      <th>Cyclone_Gas_Outlet_Temp</th>\n",
              "      <th>Cyclone_Inlet_Draft</th>\n",
              "    </tr>\n",
              "  </thead>\n",
              "  <tbody>\n",
              "    <tr>\n",
              "      <th>count</th>\n",
              "      <td>376399.000000</td>\n",
              "      <td>376128.000000</td>\n",
              "      <td>376398.000000</td>\n",
              "      <td>376399.000000</td>\n",
              "      <td>376398.000000</td>\n",
              "      <td>376397.000000</td>\n",
              "    </tr>\n",
              "    <tr>\n",
              "      <th>mean</th>\n",
              "      <td>727.348549</td>\n",
              "      <td>750.830483</td>\n",
              "      <td>-177.820685</td>\n",
              "      <td>-164.572619</td>\n",
              "      <td>715.759972</td>\n",
              "      <td>-141.302857</td>\n",
              "    </tr>\n",
              "    <tr>\n",
              "      <th>std</th>\n",
              "      <td>328.664814</td>\n",
              "      <td>350.921068</td>\n",
              "      <td>99.147236</td>\n",
              "      <td>90.103023</td>\n",
              "      <td>325.346446</td>\n",
              "      <td>77.615576</td>\n",
              "    </tr>\n",
              "    <tr>\n",
              "      <th>min</th>\n",
              "      <td>0.000000</td>\n",
              "      <td>-185.000000</td>\n",
              "      <td>-456.660000</td>\n",
              "      <td>-459.310000</td>\n",
              "      <td>13.790000</td>\n",
              "      <td>-396.370000</td>\n",
              "    </tr>\n",
              "    <tr>\n",
              "      <th>25%</th>\n",
              "      <td>856.270000</td>\n",
              "      <td>867.667500</td>\n",
              "      <td>-247.190000</td>\n",
              "      <td>-226.770000</td>\n",
              "      <td>801.960000</td>\n",
              "      <td>-193.510000</td>\n",
              "    </tr>\n",
              "    <tr>\n",
              "      <th>50%</th>\n",
              "      <td>882.380000</td>\n",
              "      <td>913.360000</td>\n",
              "      <td>-215.260000</td>\n",
              "      <td>-198.560000</td>\n",
              "      <td>871.525000</td>\n",
              "      <td>-169.460000</td>\n",
              "    </tr>\n",
              "    <tr>\n",
              "      <th>75%</th>\n",
              "      <td>901.110000</td>\n",
              "      <td>943.660000</td>\n",
              "      <td>-170.130000</td>\n",
              "      <td>-143.640000</td>\n",
              "      <td>899.300000</td>\n",
              "      <td>-136.290000</td>\n",
              "    </tr>\n",
              "    <tr>\n",
              "      <th>max</th>\n",
              "      <td>1157.630000</td>\n",
              "      <td>1375.000000</td>\n",
              "      <td>40.270000</td>\n",
              "      <td>488.860000</td>\n",
              "      <td>1375.000000</td>\n",
              "      <td>41.640000</td>\n",
              "    </tr>\n",
              "  </tbody>\n",
              "</table>\n",
              "</div>\n",
              "      <button class=\"colab-df-convert\" onclick=\"convertToInteractive('df-6ffb578a-cdf8-4985-882c-aaca078d5866')\"\n",
              "              title=\"Convert this dataframe to an interactive table.\"\n",
              "              style=\"display:none;\">\n",
              "        \n",
              "  <svg xmlns=\"http://www.w3.org/2000/svg\" height=\"24px\"viewBox=\"0 0 24 24\"\n",
              "       width=\"24px\">\n",
              "    <path d=\"M0 0h24v24H0V0z\" fill=\"none\"/>\n",
              "    <path d=\"M18.56 5.44l.94 2.06.94-2.06 2.06-.94-2.06-.94-.94-2.06-.94 2.06-2.06.94zm-11 1L8.5 8.5l.94-2.06 2.06-.94-2.06-.94L8.5 2.5l-.94 2.06-2.06.94zm10 10l.94 2.06.94-2.06 2.06-.94-2.06-.94-.94-2.06-.94 2.06-2.06.94z\"/><path d=\"M17.41 7.96l-1.37-1.37c-.4-.4-.92-.59-1.43-.59-.52 0-1.04.2-1.43.59L10.3 9.45l-7.72 7.72c-.78.78-.78 2.05 0 2.83L4 21.41c.39.39.9.59 1.41.59.51 0 1.02-.2 1.41-.59l7.78-7.78 2.81-2.81c.8-.78.8-2.07 0-2.86zM5.41 20L4 18.59l7.72-7.72 1.47 1.35L5.41 20z\"/>\n",
              "  </svg>\n",
              "      </button>\n",
              "      \n",
              "  <style>\n",
              "    .colab-df-container {\n",
              "      display:flex;\n",
              "      flex-wrap:wrap;\n",
              "      gap: 12px;\n",
              "    }\n",
              "\n",
              "    .colab-df-convert {\n",
              "      background-color: #E8F0FE;\n",
              "      border: none;\n",
              "      border-radius: 50%;\n",
              "      cursor: pointer;\n",
              "      display: none;\n",
              "      fill: #1967D2;\n",
              "      height: 32px;\n",
              "      padding: 0 0 0 0;\n",
              "      width: 32px;\n",
              "    }\n",
              "\n",
              "    .colab-df-convert:hover {\n",
              "      background-color: #E2EBFA;\n",
              "      box-shadow: 0px 1px 2px rgba(60, 64, 67, 0.3), 0px 1px 3px 1px rgba(60, 64, 67, 0.15);\n",
              "      fill: #174EA6;\n",
              "    }\n",
              "\n",
              "    [theme=dark] .colab-df-convert {\n",
              "      background-color: #3B4455;\n",
              "      fill: #D2E3FC;\n",
              "    }\n",
              "\n",
              "    [theme=dark] .colab-df-convert:hover {\n",
              "      background-color: #434B5C;\n",
              "      box-shadow: 0px 1px 3px 1px rgba(0, 0, 0, 0.15);\n",
              "      filter: drop-shadow(0px 1px 2px rgba(0, 0, 0, 0.3));\n",
              "      fill: #FFFFFF;\n",
              "    }\n",
              "  </style>\n",
              "\n",
              "      <script>\n",
              "        const buttonEl =\n",
              "          document.querySelector('#df-6ffb578a-cdf8-4985-882c-aaca078d5866 button.colab-df-convert');\n",
              "        buttonEl.style.display =\n",
              "          google.colab.kernel.accessAllowed ? 'block' : 'none';\n",
              "\n",
              "        async function convertToInteractive(key) {\n",
              "          const element = document.querySelector('#df-6ffb578a-cdf8-4985-882c-aaca078d5866');\n",
              "          const dataTable =\n",
              "            await google.colab.kernel.invokeFunction('convertToInteractive',\n",
              "                                                     [key], {});\n",
              "          if (!dataTable) return;\n",
              "\n",
              "          const docLinkHtml = 'Like what you see? Visit the ' +\n",
              "            '<a target=\"_blank\" href=https://colab.research.google.com/notebooks/data_table.ipynb>data table notebook</a>'\n",
              "            + ' to learn more about interactive tables.';\n",
              "          element.innerHTML = '';\n",
              "          dataTable['output_type'] = 'display_data';\n",
              "          await google.colab.output.renderOutput(dataTable, element);\n",
              "          const docLink = document.createElement('div');\n",
              "          docLink.innerHTML = docLinkHtml;\n",
              "          element.appendChild(docLink);\n",
              "        }\n",
              "      </script>\n",
              "    </div>\n",
              "  </div>\n",
              "  "
            ]
          },
          "metadata": {},
          "execution_count": 110
        }
      ]
    },
    {
      "cell_type": "code",
      "source": [
        "#Replacing NaN values with Mean values of the column\n",
        "df1['Cyclone_Inlet_Gas_Temp'].fillna(value=df1['Cyclone_Inlet_Gas_Temp'].mean(), inplace=True)\n",
        "df1['Cyclone_Material_Temp'].fillna(value=df1['Cyclone_Material_Temp'].mean(), inplace=True)\n",
        "df1['Cyclone_Outlet_Gas_draft'].fillna(value=df1['Cyclone_Outlet_Gas_draft'].mean(), inplace=True)\n",
        "df1['Cyclone_cone_draft'].fillna(value=df1['Cyclone_cone_draft'].mean(), inplace=True)\n",
        "df1['Cyclone_Gas_Outlet_Temp'].fillna(value=df1['Cyclone_Gas_Outlet_Temp'].mean(), inplace=True)\n",
        "df1['Cyclone_Inlet_Draft'].fillna(value=df1['Cyclone_Inlet_Draft'].mean(), inplace=True)"
      ],
      "metadata": {
        "id": "SP_r6qhc9mN9"
      },
      "execution_count": null,
      "outputs": []
    },
    {
      "cell_type": "code",
      "source": [
        "#Resampling Dataset from Every 5 minutes to Every Hour\n",
        "df1['time'] = pd.to_datetime(df1['time']) "
      ],
      "metadata": {
        "id": "CLu2ZjY_m2UJ"
      },
      "execution_count": null,
      "outputs": []
    },
    {
      "cell_type": "code",
      "source": [
        "df1 = df1.set_index('time').resample('H').mean().reset_index()\n",
        "df1.dropna(inplace=True)\n",
        "df1.shape"
      ],
      "metadata": {
        "colab": {
          "base_uri": "https://localhost:8080/"
        },
        "id": "gvSEbbpOm3Ut",
        "outputId": "4c3ee10d-ed13-4b5a-a31c-088cc8fcfc42"
      },
      "execution_count": null,
      "outputs": [
        {
          "output_type": "execute_result",
          "data": {
            "text/plain": [
              "(31480, 7)"
            ]
          },
          "metadata": {},
          "execution_count": 113
        }
      ]
    },
    {
      "cell_type": "markdown",
      "source": [
        "#EDA"
      ],
      "metadata": {
        "id": "3reTJimzBEVV"
      }
    },
    {
      "cell_type": "markdown",
      "source": [
        "#Finding Correlation "
      ],
      "metadata": {
        "id": "PDmMXLdhC8AZ"
      }
    },
    {
      "cell_type": "code",
      "source": [
        "import seaborn as sns\n"
      ],
      "metadata": {
        "id": "zzkmL6rrJhHr"
      },
      "execution_count": null,
      "outputs": []
    },
    {
      "cell_type": "code",
      "source": [
        "#Finding the Pearson Correlation\n",
        "df1.corr()"
      ],
      "metadata": {
        "colab": {
          "base_uri": "https://localhost:8080/",
          "height": 238
        },
        "id": "0d6U0d4j_CiC",
        "outputId": "f9f67668-3ee0-4b73-b47b-1fd0594219f6"
      },
      "execution_count": null,
      "outputs": [
        {
          "output_type": "execute_result",
          "data": {
            "text/plain": [
              "                          Cyclone_Inlet_Gas_Temp  Cyclone_Material_Temp  \\\n",
              "Cyclone_Inlet_Gas_Temp                  1.000000               0.972435   \n",
              "Cyclone_Material_Temp                   0.972435               1.000000   \n",
              "Cyclone_Outlet_Gas_draft               -0.907857              -0.892296   \n",
              "Cyclone_cone_draft                     -0.905877              -0.890592   \n",
              "Cyclone_Gas_Outlet_Temp                 0.991937               0.965241   \n",
              "Cyclone_Inlet_Draft                    -0.907496              -0.891925   \n",
              "\n",
              "                          Cyclone_Outlet_Gas_draft  Cyclone_cone_draft  \\\n",
              "Cyclone_Inlet_Gas_Temp                   -0.907857           -0.905877   \n",
              "Cyclone_Material_Temp                    -0.892296           -0.890592   \n",
              "Cyclone_Outlet_Gas_draft                  1.000000            0.970257   \n",
              "Cyclone_cone_draft                        0.970257            1.000000   \n",
              "Cyclone_Gas_Outlet_Temp                  -0.903305           -0.899094   \n",
              "Cyclone_Inlet_Draft                       0.996016            0.971535   \n",
              "\n",
              "                          Cyclone_Gas_Outlet_Temp  Cyclone_Inlet_Draft  \n",
              "Cyclone_Inlet_Gas_Temp                   0.991937            -0.907496  \n",
              "Cyclone_Material_Temp                    0.965241            -0.891925  \n",
              "Cyclone_Outlet_Gas_draft                -0.903305             0.996016  \n",
              "Cyclone_cone_draft                      -0.899094             0.971535  \n",
              "Cyclone_Gas_Outlet_Temp                  1.000000            -0.903975  \n",
              "Cyclone_Inlet_Draft                     -0.903975             1.000000  "
            ],
            "text/html": [
              "\n",
              "  <div id=\"df-f854760c-da7f-42b4-8eb9-e49826d641ba\">\n",
              "    <div class=\"colab-df-container\">\n",
              "      <div>\n",
              "<style scoped>\n",
              "    .dataframe tbody tr th:only-of-type {\n",
              "        vertical-align: middle;\n",
              "    }\n",
              "\n",
              "    .dataframe tbody tr th {\n",
              "        vertical-align: top;\n",
              "    }\n",
              "\n",
              "    .dataframe thead th {\n",
              "        text-align: right;\n",
              "    }\n",
              "</style>\n",
              "<table border=\"1\" class=\"dataframe\">\n",
              "  <thead>\n",
              "    <tr style=\"text-align: right;\">\n",
              "      <th></th>\n",
              "      <th>Cyclone_Inlet_Gas_Temp</th>\n",
              "      <th>Cyclone_Material_Temp</th>\n",
              "      <th>Cyclone_Outlet_Gas_draft</th>\n",
              "      <th>Cyclone_cone_draft</th>\n",
              "      <th>Cyclone_Gas_Outlet_Temp</th>\n",
              "      <th>Cyclone_Inlet_Draft</th>\n",
              "    </tr>\n",
              "  </thead>\n",
              "  <tbody>\n",
              "    <tr>\n",
              "      <th>Cyclone_Inlet_Gas_Temp</th>\n",
              "      <td>1.000000</td>\n",
              "      <td>0.972435</td>\n",
              "      <td>-0.907857</td>\n",
              "      <td>-0.905877</td>\n",
              "      <td>0.991937</td>\n",
              "      <td>-0.907496</td>\n",
              "    </tr>\n",
              "    <tr>\n",
              "      <th>Cyclone_Material_Temp</th>\n",
              "      <td>0.972435</td>\n",
              "      <td>1.000000</td>\n",
              "      <td>-0.892296</td>\n",
              "      <td>-0.890592</td>\n",
              "      <td>0.965241</td>\n",
              "      <td>-0.891925</td>\n",
              "    </tr>\n",
              "    <tr>\n",
              "      <th>Cyclone_Outlet_Gas_draft</th>\n",
              "      <td>-0.907857</td>\n",
              "      <td>-0.892296</td>\n",
              "      <td>1.000000</td>\n",
              "      <td>0.970257</td>\n",
              "      <td>-0.903305</td>\n",
              "      <td>0.996016</td>\n",
              "    </tr>\n",
              "    <tr>\n",
              "      <th>Cyclone_cone_draft</th>\n",
              "      <td>-0.905877</td>\n",
              "      <td>-0.890592</td>\n",
              "      <td>0.970257</td>\n",
              "      <td>1.000000</td>\n",
              "      <td>-0.899094</td>\n",
              "      <td>0.971535</td>\n",
              "    </tr>\n",
              "    <tr>\n",
              "      <th>Cyclone_Gas_Outlet_Temp</th>\n",
              "      <td>0.991937</td>\n",
              "      <td>0.965241</td>\n",
              "      <td>-0.903305</td>\n",
              "      <td>-0.899094</td>\n",
              "      <td>1.000000</td>\n",
              "      <td>-0.903975</td>\n",
              "    </tr>\n",
              "    <tr>\n",
              "      <th>Cyclone_Inlet_Draft</th>\n",
              "      <td>-0.907496</td>\n",
              "      <td>-0.891925</td>\n",
              "      <td>0.996016</td>\n",
              "      <td>0.971535</td>\n",
              "      <td>-0.903975</td>\n",
              "      <td>1.000000</td>\n",
              "    </tr>\n",
              "  </tbody>\n",
              "</table>\n",
              "</div>\n",
              "      <button class=\"colab-df-convert\" onclick=\"convertToInteractive('df-f854760c-da7f-42b4-8eb9-e49826d641ba')\"\n",
              "              title=\"Convert this dataframe to an interactive table.\"\n",
              "              style=\"display:none;\">\n",
              "        \n",
              "  <svg xmlns=\"http://www.w3.org/2000/svg\" height=\"24px\"viewBox=\"0 0 24 24\"\n",
              "       width=\"24px\">\n",
              "    <path d=\"M0 0h24v24H0V0z\" fill=\"none\"/>\n",
              "    <path d=\"M18.56 5.44l.94 2.06.94-2.06 2.06-.94-2.06-.94-.94-2.06-.94 2.06-2.06.94zm-11 1L8.5 8.5l.94-2.06 2.06-.94-2.06-.94L8.5 2.5l-.94 2.06-2.06.94zm10 10l.94 2.06.94-2.06 2.06-.94-2.06-.94-.94-2.06-.94 2.06-2.06.94z\"/><path d=\"M17.41 7.96l-1.37-1.37c-.4-.4-.92-.59-1.43-.59-.52 0-1.04.2-1.43.59L10.3 9.45l-7.72 7.72c-.78.78-.78 2.05 0 2.83L4 21.41c.39.39.9.59 1.41.59.51 0 1.02-.2 1.41-.59l7.78-7.78 2.81-2.81c.8-.78.8-2.07 0-2.86zM5.41 20L4 18.59l7.72-7.72 1.47 1.35L5.41 20z\"/>\n",
              "  </svg>\n",
              "      </button>\n",
              "      \n",
              "  <style>\n",
              "    .colab-df-container {\n",
              "      display:flex;\n",
              "      flex-wrap:wrap;\n",
              "      gap: 12px;\n",
              "    }\n",
              "\n",
              "    .colab-df-convert {\n",
              "      background-color: #E8F0FE;\n",
              "      border: none;\n",
              "      border-radius: 50%;\n",
              "      cursor: pointer;\n",
              "      display: none;\n",
              "      fill: #1967D2;\n",
              "      height: 32px;\n",
              "      padding: 0 0 0 0;\n",
              "      width: 32px;\n",
              "    }\n",
              "\n",
              "    .colab-df-convert:hover {\n",
              "      background-color: #E2EBFA;\n",
              "      box-shadow: 0px 1px 2px rgba(60, 64, 67, 0.3), 0px 1px 3px 1px rgba(60, 64, 67, 0.15);\n",
              "      fill: #174EA6;\n",
              "    }\n",
              "\n",
              "    [theme=dark] .colab-df-convert {\n",
              "      background-color: #3B4455;\n",
              "      fill: #D2E3FC;\n",
              "    }\n",
              "\n",
              "    [theme=dark] .colab-df-convert:hover {\n",
              "      background-color: #434B5C;\n",
              "      box-shadow: 0px 1px 3px 1px rgba(0, 0, 0, 0.15);\n",
              "      filter: drop-shadow(0px 1px 2px rgba(0, 0, 0, 0.3));\n",
              "      fill: #FFFFFF;\n",
              "    }\n",
              "  </style>\n",
              "\n",
              "      <script>\n",
              "        const buttonEl =\n",
              "          document.querySelector('#df-f854760c-da7f-42b4-8eb9-e49826d641ba button.colab-df-convert');\n",
              "        buttonEl.style.display =\n",
              "          google.colab.kernel.accessAllowed ? 'block' : 'none';\n",
              "\n",
              "        async function convertToInteractive(key) {\n",
              "          const element = document.querySelector('#df-f854760c-da7f-42b4-8eb9-e49826d641ba');\n",
              "          const dataTable =\n",
              "            await google.colab.kernel.invokeFunction('convertToInteractive',\n",
              "                                                     [key], {});\n",
              "          if (!dataTable) return;\n",
              "\n",
              "          const docLinkHtml = 'Like what you see? Visit the ' +\n",
              "            '<a target=\"_blank\" href=https://colab.research.google.com/notebooks/data_table.ipynb>data table notebook</a>'\n",
              "            + ' to learn more about interactive tables.';\n",
              "          element.innerHTML = '';\n",
              "          dataTable['output_type'] = 'display_data';\n",
              "          await google.colab.output.renderOutput(dataTable, element);\n",
              "          const docLink = document.createElement('div');\n",
              "          docLink.innerHTML = docLinkHtml;\n",
              "          element.appendChild(docLink);\n",
              "        }\n",
              "      </script>\n",
              "    </div>\n",
              "  </div>\n",
              "  "
            ]
          },
          "metadata": {},
          "execution_count": 115
        }
      ]
    },
    {
      "cell_type": "code",
      "source": [
        "#Visualizing Correlation using Heatmap\n",
        "sns.heatmap(df1.corr(),annot=True)"
      ],
      "metadata": {
        "colab": {
          "base_uri": "https://localhost:8080/",
          "height": 407
        },
        "id": "gY_eEUEoJgBN",
        "outputId": "b6a037ce-f876-4224-c775-0b44691fe691"
      },
      "execution_count": null,
      "outputs": [
        {
          "output_type": "execute_result",
          "data": {
            "text/plain": [
              "<matplotlib.axes._subplots.AxesSubplot at 0x7f988ea92c40>"
            ]
          },
          "metadata": {},
          "execution_count": 116
        },
        {
          "output_type": "display_data",
          "data": {
            "text/plain": [
              "<Figure size 432x288 with 2 Axes>"
            ],
            "image/png": "[encoded data removed]"
          },
          "metadata": {
            "needs_background": "light"
          }
        }
      ]
    },
    {
      "cell_type": "markdown",
      "source": [
        "#Data Visualization"
      ],
      "metadata": {
        "id": "IoWz8mchC2_W"
      }
    },
    {
      "cell_type": "code",
      "source": [
        "#Plotting Histograms to Check the Distribution of Data\n",
        "df1.hist(bins=50, figsize=(15,15))"
      ],
      "metadata": {
        "colab": {
          "base_uri": "https://localhost:8080/",
          "height": 1000
        },
        "id": "l9WJTQF5AaHD",
        "outputId": "05ce1e3e-7e27-4906-c5c0-c5a7519c8789"
      },
      "execution_count": null,
      "outputs": [
        {
          "output_type": "execute_result",
          "data": {
            "text/plain": [
              "array([[<matplotlib.axes._subplots.AxesSubplot object at 0x7f9893fe3a90>,\n",
              "        <matplotlib.axes._subplots.AxesSubplot object at 0x7f986f5edbe0>,\n",
              "        <matplotlib.axes._subplots.AxesSubplot object at 0x7f98939554c0>],\n",
              "       [<matplotlib.axes._subplots.AxesSubplot object at 0x7f988fc988b0>,\n",
              "        <matplotlib.axes._subplots.AxesSubplot object at 0x7f9888b83ca0>,\n",
              "        <matplotlib.axes._subplots.AxesSubplot object at 0x7f9888b9e130>],\n",
              "       [<matplotlib.axes._subplots.AxesSubplot object at 0x7f9888b98100>,\n",
              "        <matplotlib.axes._subplots.AxesSubplot object at 0x7f989064c8e0>,\n",
              "        <matplotlib.axes._subplots.AxesSubplot object at 0x7f9890668d90>]],\n",
              "      dtype=object)"
            ]
          },
          "metadata": {},
          "execution_count": 117
        },
        {
          "output_type": "display_data",
          "data": {
            "text/plain": [
              "<Figure size 1080x1080 with 9 Axes>"
            ],
            "image/png": "[encoded data removed]"
          },
          "metadata": {
            "needs_background": "light"
          }
        }
      ]
    },
    {
      "cell_type": "code",
      "source": [
        "#Plotting Boxplots to check the Outliers in the Data\n",
        "df1.boxplot(figsize=(15,15))"
      ],
      "metadata": {
        "colab": {
          "base_uri": "https://localhost:8080/",
          "height": 881
        },
        "id": "bQLSrostCr4D",
        "outputId": "cd16464e-63de-4256-80ce-0052405724c5"
      },
      "execution_count": null,
      "outputs": [
        {
          "output_type": "execute_result",
          "data": {
            "text/plain": [
              "<matplotlib.axes._subplots.AxesSubplot at 0x7f988ddc2820>"
            ]
          },
          "metadata": {},
          "execution_count": 118
        },
        {
          "output_type": "display_data",
          "data": {
            "text/plain": [
              "<Figure size 1080x1080 with 1 Axes>"
            ],
            "image/png": "[encoded data removed]"
          },
          "metadata": {
            "needs_background": "light"
          }
        }
      ]
    },
    {
      "cell_type": "markdown",
      "source": [
        "#DBScan Clustering\n",
        "#####To find the number of outliers I decided to apply DBScan Clustering. DBScan is a clustering-based machine learning technique for detecting fraud, outliers, and anomalies. It takes as input multidimensional data and groups it based on the model's parameters, such as epsilon and minimum samples. The programme decides whether or not specific values in the dataset are outliers based on these factors."
      ],
      "metadata": {
        "id": "zdpL5mvVy-x8"
      }
    },
    {
      "cell_type": "code",
      "source": [
        "from sklearn.cluster import DBSCAN\n",
        "#Initiating the Algorithm\n",
        "#Setting the distance to 20, and min_samples as 5\n",
        "outlier_detection = DBSCAN(eps = 20, metric = \"euclidean\", min_samples = 5, n_jobs = -1)\n",
        "X_train = df1[['Cyclone_Inlet_Gas_Temp', 'Cyclone_Material_Temp', 'Cyclone_Outlet_Gas_draft','Cyclone_cone_draft', 'Cyclone_Gas_Outlet_Temp', 'Cyclone_Inlet_Draft']]\n"
      ],
      "metadata": {
        "id": "nm_heV8cOnQD"
      },
      "execution_count": null,
      "outputs": []
    },
    {
      "cell_type": "code",
      "source": [
        "#Fit the algorithm to the Existing data\n",
        "clusters = outlier_detection.fit_predict(X_train)\n"
      ],
      "metadata": {
        "id": "qhXA73fgPPWp"
      },
      "execution_count": null,
      "outputs": []
    },
    {
      "cell_type": "code",
      "source": [
        "#Extracting the labels from the algorithm\n",
        "df1[\"outliers\"] = clusters\n"
      ],
      "metadata": {
        "id": "sAtUShVMPRfv"
      },
      "execution_count": null,
      "outputs": []
    },
    {
      "cell_type": "code",
      "source": [
        "#Labeling all others as Inliers \n",
        "df1[\"outliers\"] = df1[\"outliers\"].apply(lambda x: str(1) if x>-1 else str(-1))\n"
      ],
      "metadata": {
        "id": "BGVrXa5ePTX8"
      },
      "execution_count": null,
      "outputs": []
    },
    {
      "cell_type": "code",
      "source": [
        "#Printing the number of Inliers(1) and Outliers(-1)\n",
        "print(df1[\"outliers\"].value_counts())"
      ],
      "metadata": {
        "colab": {
          "base_uri": "https://localhost:8080/"
        },
        "id": "0KcYQCc2PVKd",
        "outputId": "270c1628-9fbd-4450-cfa0-a2f2c173d92f"
      },
      "execution_count": null,
      "outputs": [
        {
          "output_type": "stream",
          "name": "stdout",
          "text": [
            "1     28760\n",
            "-1     2720\n",
            "Name: outliers, dtype: int64\n"
          ]
        }
      ]
    },
    {
      "cell_type": "markdown",
      "source": [
        "######From DBScan Clustering, we find that in our Dataset, we have around 2720 Outliers. The Cyclone Inlet Gas Temp and Cyclone Outlet Gas temp, the outliers lie in the middle range of Temperatures, In the Cyclone Material Temp, much outliers are in the higher temperature ranges, while few are in lower region. In the Cyclone Inlet and Outlet Gas Draft, the outliers lie in the higher pressure ranges, and in the Cyclone Cone Draft, the outliers mostly lie in the lower pressure ranges."
      ],
      "metadata": {
        "id": "XMLEErRZ0FG8"
      }
    }
  ]
}